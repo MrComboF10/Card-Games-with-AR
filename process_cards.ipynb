{
 "cells": [
  {
   "cell_type": "code",
   "execution_count": 1,
   "metadata": {},
   "outputs": [],
   "source": [
    "import cv2\n",
    "import os"
   ]
  },
  {
   "cell_type": "code",
   "execution_count": 2,
   "metadata": {},
   "outputs": [],
   "source": [
    "filenames = os.listdir(\"database\")\n",
    "for filename in filenames:\n",
    "    img = cv2.imread(f\"./database/{filename}\")\n",
    "    resized = cv2.resize(img, (500, 726))\n",
    "    cv2.imwrite(f\"./resized_database/{filename}\", resized)"
   ]
  }
 ],
 "metadata": {
  "kernelspec": {
   "display_name": "Python 3.7.0 64-bit",
   "language": "python",
   "name": "python3"
  },
  "language_info": {
   "codemirror_mode": {
    "name": "ipython",
    "version": 3
   },
   "file_extension": ".py",
   "mimetype": "text/x-python",
   "name": "python",
   "nbconvert_exporter": "python",
   "pygments_lexer": "ipython3",
   "version": "3.7.0"
  },
  "orig_nbformat": 4,
  "vscode": {
   "interpreter": {
    "hash": "1867d0369bef58dd44dcfb7e49d98b38ff533d0e3475a54b6958ff4149ae4ff3"
   }
  }
 },
 "nbformat": 4,
 "nbformat_minor": 2
}
