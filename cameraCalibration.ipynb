{
 "cells": [
  {
   "cell_type": "code",
   "execution_count": 7,
   "metadata": {},
   "outputs": [],
   "source": [
    "# Import required modules\n",
    "import cv2\n",
    "import numpy as np\n",
    "import os\n",
    "import glob"
   ]
  },
  {
   "cell_type": "code",
   "execution_count": 8,
   "metadata": {},
   "outputs": [
    {
     "name": "stdout",
     "output_type": "stream",
     "text": [
      " Camera matrix:\n",
      "[[1.07865920e+03 0.00000000e+00 6.72955927e+02]\n",
      " [0.00000000e+00 1.06611282e+03 5.34055095e+02]\n",
      " [0.00000000e+00 0.00000000e+00 1.00000000e+00]]\n",
      "\n",
      " Distortion coefficient:\n",
      "[[ 0.13570124 -1.20889359  0.01040627  0.00942016  1.56531542]]\n"
     ]
    }
   ],
   "source": [
    "# Define the dimensions of checkerboard\n",
    "CHECKERBOARD = (11, 7)\n",
    " \n",
    " \n",
    "# stop the iteration when specified\n",
    "# accuracy, epsilon, is reached or\n",
    "# specified number of iterations are completed.\n",
    "criteria = (cv2.TERM_CRITERIA_EPS +\n",
    "            cv2.TERM_CRITERIA_MAX_ITER, 30, 0.001)\n",
    " \n",
    " \n",
    "# Vector for 3D points\n",
    "threedpoints = []\n",
    " \n",
    "# Vector for 2D points\n",
    "twodpoints = []\n",
    " \n",
    " \n",
    "#  3D points real world coordinates\n",
    "objectp3d = np.zeros((1, CHECKERBOARD[0]\n",
    "                      * CHECKERBOARD[1],\n",
    "                      3), np.float32)\n",
    "objectp3d[0, :, :2] = np.mgrid[0:CHECKERBOARD[0],\n",
    "                               0:CHECKERBOARD[1]].T.reshape(-1, 2)\n",
    "prev_img_shape = None\n",
    " \n",
    " \n",
    "# Extracting path of individual image stored\n",
    "# in a given directory. Since no path is\n",
    "# specified, it will take current directory\n",
    "# jpg files alone\n",
    "images = glob.glob('calibrationImages/*.jpg')\n",
    " \n",
    "for filename in images:\n",
    "    image = cv2.imread(filename)\n",
    "    grayColor = cv2.cvtColor(image, cv2.COLOR_BGR2GRAY)\n",
    " \n",
    "    # Find the chess board corners\n",
    "    # If desired number of corners are\n",
    "    # found in the image then ret = true\n",
    "    ret, corners = cv2.findChessboardCorners(\n",
    "                    grayColor, CHECKERBOARD,\n",
    "                    cv2.CALIB_CB_ADAPTIVE_THRESH\n",
    "                    + cv2.CALIB_CB_FAST_CHECK +\n",
    "                    cv2.CALIB_CB_NORMALIZE_IMAGE)\n",
    " \n",
    "    # If desired number of corners can be detected then,\n",
    "    # refine the pixel coordinates and display\n",
    "    # them on the images of checker board\n",
    "    if ret == True:\n",
    "        threedpoints.append(objectp3d)\n",
    " \n",
    "        # Refining pixel coordinates\n",
    "        # for given 2d points.\n",
    "        corners2 = cv2.cornerSubPix(\n",
    "            grayColor, corners, (11, 11), (-1, -1), criteria)\n",
    " \n",
    "        twodpoints.append(corners2)\n",
    " \n",
    "        # Draw and display the corners\n",
    "        image = cv2.drawChessboardCorners(image,\n",
    "                                          CHECKERBOARD,\n",
    "                                          corners2, ret)\n",
    " \n",
    "    cv2.imshow('img', image)\n",
    "    cv2.waitKey(0)\n",
    " \n",
    "cv2.destroyAllWindows()\n",
    " \n",
    "h, w = image.shape[:2]\n",
    " \n",
    " \n",
    "# Perform camera calibration by\n",
    "# passing the value of above found out 3D points (threedpoints)\n",
    "# and its corresponding pixel coordinates of the\n",
    "# detected corners (twodpoints)\n",
    "ret, matrix, distortion, _, _ = cv2.calibrateCamera(\n",
    "    threedpoints, twodpoints, grayColor.shape[::-1], None, None)\n",
    " \n",
    " \n",
    "# Displaying required output\n",
    "print(\" Camera matrix:\")\n",
    "print(matrix)\n",
    " \n",
    "print(\"\\n Distortion coefficient:\")\n",
    "print(distortion)"
   ]
  }
 ],
 "metadata": {
  "kernelspec": {
   "display_name": "Python 3.10.1 64-bit",
   "language": "python",
   "name": "python3"
  },
  "language_info": {
   "codemirror_mode": {
    "name": "ipython",
    "version": 3
   },
   "file_extension": ".py",
   "mimetype": "text/x-python",
   "name": "python",
   "nbconvert_exporter": "python",
   "pygments_lexer": "ipython3",
   "version": "3.10.1"
  },
  "orig_nbformat": 4,
  "vscode": {
   "interpreter": {
    "hash": "c8c01f9d0b1b259feb4a4cebc59257d3566aff16e1d7eff29e26a5390e3f6b56"
   }
  }
 },
 "nbformat": 4,
 "nbformat_minor": 2
}
