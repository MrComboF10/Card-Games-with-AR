{
 "cells": [
  {
   "cell_type": "markdown",
   "metadata": {},
   "source": [
    "# Card Game with Augmented Reality"
   ]
  },
  {
   "cell_type": "code",
   "execution_count": 10,
   "metadata": {},
   "outputs": [],
   "source": [
    "import cv2"
   ]
  },
  {
   "cell_type": "code",
   "execution_count": 11,
   "metadata": {},
   "outputs": [],
   "source": [
    "def extract_card_border(card_img):\n",
    "    border_h = 200\n",
    "    border_w = 100\n",
    "    return card_img[0:border_h, 0:border_w]"
   ]
  },
  {
   "cell_type": "code",
   "execution_count": 12,
   "metadata": {},
   "outputs": [],
   "source": [
    "h = 726\n",
    "w = 500\n",
    "\n",
    "card_img = cv2.imread('./cards_normal/1.png')\n",
    "\n",
    "card_border_img = extract_card_border(card_img)\n",
    "\n",
    "cv2.imshow(\"ml\", card_border_img)\n",
    "cv2.waitKey(0)\n",
    "cv2.destroyWindow(\"ml\")"
   ]
  }
 ],
 "metadata": {
  "kernelspec": {
   "display_name": "Python 3.7.8 64-bit",
   "language": "python",
   "name": "python3"
  },
  "language_info": {
   "codemirror_mode": {
    "name": "ipython",
    "version": 3
   },
   "file_extension": ".py",
   "mimetype": "text/x-python",
   "name": "python",
   "nbconvert_exporter": "python",
   "pygments_lexer": "ipython3",
   "version": "3.7.8"
  },
  "orig_nbformat": 4,
  "vscode": {
   "interpreter": {
    "hash": "1867d0369bef58dd44dcfb7e49d98b38ff533d0e3475a54b6958ff4149ae4ff3"
   }
  }
 },
 "nbformat": 4,
 "nbformat_minor": 2
}
