{
 "cells": [
  {
   "cell_type": "markdown",
   "metadata": {},
   "source": [
    "# Create Simple Dataset"
   ]
  },
  {
   "cell_type": "code",
   "execution_count": 6,
   "metadata": {},
   "outputs": [],
   "source": [
    "import cv2\n",
    "import os"
   ]
  },
  {
   "cell_type": "code",
   "execution_count": 7,
   "metadata": {},
   "outputs": [],
   "source": [
    "card_simple_rect = (30, 50, 100, 200)\n",
    "original_database_foldername = \"resized\"\n",
    "name_database_foldername = \"names\"\n",
    "suit_database_foldername = \"suits\"\n",
    "img_type = \"png\""
   ]
  },
  {
   "cell_type": "code",
   "execution_count": 8,
   "metadata": {},
   "outputs": [],
   "source": [
    "def extract_card_name_suit_images(card_img):\n",
    "    x1, y1, x2, y2 = card_simple_rect\n",
    "    h = y2 - y1\n",
    "    card_img_simple = card_img[y1:y2, x1:x2]\n",
    "    name_img = card_img_simple[:h//2,:]\n",
    "    suit_img = card_img_simple[h//2+1:,:]\n",
    "    return name_img, suit_img"
   ]
  },
  {
   "cell_type": "code",
   "execution_count": 9,
   "metadata": {},
   "outputs": [],
   "source": [
    "def extract_card_name_suit(filename):\n",
    "    #suit_legend = {\"C\": \"Clubs\", \"D\": \"Diamonds\", \"H\": \"Hearts\", \"S\": \"Spades\"}\n",
    "    name = filename.split(\".\")[0]\n",
    "    name_split = name.split(\"_\")\n",
    "    return name_split[0], name_split[1]"
   ]
  },
  {
   "cell_type": "code",
   "execution_count": 11,
   "metadata": {},
   "outputs": [],
   "source": [
    "# Create folder to store images related to names of the cards\n",
    "if not os.path.exists(name_database_foldername):\n",
    "   os.makedirs(name_database_foldername)\n",
    "\n",
    "# Create folder to store images related to suits of the cards\n",
    "if not os.path.exists(suit_database_foldername):\n",
    "   os.makedirs(suit_database_foldername)\n",
    "\n",
    "filenames = os.listdir(original_database_foldername)\n",
    "for filename in filenames:\n",
    "    name, suit = extract_card_name_suit(filename)\n",
    "    img = cv2.imread(f\"./{original_database_foldername}/{filename}\")\n",
    "    name_img, suit_img = extract_card_name_suit_images(img)\n",
    "    if (not os.path.exists(f\"{name_database_foldername}/{name}.{img_type}\")):\n",
    "        cv2.imwrite(f\"{name_database_foldername}/{name}.{img_type}\", name_img)\n",
    "    if (not os.path.exists(f\"{suit_database_foldername}/{suit}.{img_type}\")):\n",
    "        cv2.imwrite(f\"{suit_database_foldername}/{suit}.{img_type}\", suit_img)"
   ]
  }
 ],
 "metadata": {
  "kernelspec": {
   "display_name": "Python 3.9.13 64-bit",
   "language": "python",
   "name": "python3"
  },
  "language_info": {
   "codemirror_mode": {
    "name": "ipython",
    "version": 3
   },
   "file_extension": ".py",
   "mimetype": "text/x-python",
   "name": "python",
   "nbconvert_exporter": "python",
   "pygments_lexer": "ipython3",
   "version": "3.9.13"
  },
  "orig_nbformat": 4,
  "vscode": {
   "interpreter": {
    "hash": "dfdf30949fe78955335ac21252e520389c0855e0bdf08332079102d3191b2fa0"
   }
  }
 },
 "nbformat": 4,
 "nbformat_minor": 2
}
