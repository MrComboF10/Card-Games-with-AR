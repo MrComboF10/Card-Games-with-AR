{
 "cells": [
  {
   "cell_type": "markdown",
   "metadata": {},
   "source": [
    "# Create Simple Dataset"
   ]
  },
  {
   "cell_type": "code",
   "execution_count": 611,
   "metadata": {},
   "outputs": [],
   "source": [
    "import cv2\n",
    "import os"
   ]
  },
  {
   "cell_type": "code",
   "execution_count": 612,
   "metadata": {},
   "outputs": [],
   "source": [
    "card_simple_rect = (30, 40, 130, 210)\n",
    "card_simple_factor = 2\n",
    "original_database_foldername = \"resized\"\n",
    "name_database_foldername = \"names\"\n",
    "suit_database_foldername = \"suits\"\n",
    "simple_database_foldername = \"simple\"\n",
    "img_type = \"png\""
   ]
  },
  {
   "cell_type": "code",
   "execution_count": 613,
   "metadata": {},
   "outputs": [],
   "source": [
    "def cnt1_is_inside_cnt2(cnt1, cnt2):\n",
    "    cnt1_x1, cnt1_y1, cnt1_w, cnt1_h = cv2.boundingRect(cnt1)\n",
    "    cnt1_x2 = cnt1_x1 + cnt1_w\n",
    "    cnt1_y2 = cnt1_y1 + cnt1_h\n",
    "    cnt2_x1, cnt2_y1, cnt2_w, cnt2_h = cv2.boundingRect(cnt2)\n",
    "    cnt2_x2 = cnt2_x1 + cnt2_w\n",
    "    cnt2_y2 = cnt2_y1 + cnt2_h\n",
    "\n",
    "    return (cnt1_x1 >= cnt2_x1) and (cnt1_y1 >= cnt2_y1) and (cnt1_x2 <= cnt2_x2) and (cnt1_y2 <= cnt2_y2)"
   ]
  },
  {
   "cell_type": "code",
   "execution_count": 614,
   "metadata": {},
   "outputs": [],
   "source": [
    "def get_card_simple_area():\n",
    "    x1, y1, x2, y2 = card_simple_rect\n",
    "    return (x2 - x1) * (y2 - y1) * card_simple_factor ** 2"
   ]
  },
  {
   "cell_type": "code",
   "execution_count": 615,
   "metadata": {},
   "outputs": [
    {
     "data": {
      "text/plain": [
       "'\\ndef extract_card_name_suit_images(card_img):\\n    x1, y1, x2, y2 = card_simple_rect\\n    h = y2 - y1\\n    card_img_simple = card_img[y1:y2, x1:x2]\\n    name_img = card_img_simple[:h//2,:]\\n    suit_img = card_img_simple[h//2+1:,:]\\n    return name_img, suit_img\\n'"
      ]
     },
     "execution_count": 615,
     "metadata": {},
     "output_type": "execute_result"
    }
   ],
   "source": [
    "def extract_card_simple(card_img):\n",
    "    x1, y1, x2, y2 = card_simple_rect\n",
    "    card_simple = card_img[y1:y2, x1:x2]\n",
    "    card_simple = cv2.resize(card_simple, (0,0), fx=card_simple_factor, fy=card_simple_factor) \n",
    "    return card_simple\n"
   ]
  },
  {
   "cell_type": "code",
   "execution_count": 616,
   "metadata": {},
   "outputs": [],
   "source": [
    "def extract_card_name_suit(filename):\n",
    "    #suit_legend = {\"C\": \"Clubs\", \"D\": \"Diamonds\", \"H\": \"Hearts\", \"S\": \"Spades\"}\n",
    "    name = filename.split(\".\")[0]\n",
    "    name_split = name.split(\"_\")\n",
    "    return name_split[0], name_split[1]"
   ]
  },
  {
   "cell_type": "code",
   "execution_count": 617,
   "metadata": {},
   "outputs": [],
   "source": [
    "def create_binary(frame):\n",
    "    # convert to gray\n",
    "    frame = cv2.cvtColor(frame, cv2.COLOR_BGR2GRAY)\n",
    "\n",
    "    # apply blur\n",
    "    frame = cv2.GaussianBlur(frame, (3,3), 0)\n",
    "\n",
    "    # convert to binary\n",
    "    frame = cv2.threshold(frame, 210, 255, cv2.THRESH_BINARY)[1]\n",
    "\n",
    "    return frame"
   ]
  },
  {
   "cell_type": "code",
   "execution_count": 618,
   "metadata": {},
   "outputs": [],
   "source": [
    "def apply_morphological_dilatation(binary):\n",
    "    rect_kernel = cv2.getStructuringElement(cv2.MORPH_RECT, (19, 3))\n",
    "    dilation = cv2.erode(binary, rect_kernel, iterations = 1)\n",
    "    return dilation"
   ]
  },
  {
   "cell_type": "code",
   "execution_count": 619,
   "metadata": {},
   "outputs": [],
   "source": [
    "def find_contourns(binary):\n",
    "    cnts = cv2.findContours(binary, cv2.RETR_TREE, cv2.CHAIN_APPROX_SIMPLE)\n",
    "    cnts = cnts[0] if len(cnts) == 2 else cnts[1]\n",
    "\n",
    "    return cnts"
   ]
  },
  {
   "cell_type": "code",
   "execution_count": 620,
   "metadata": {},
   "outputs": [],
   "source": [
    "def filter_contourns(cnts):\n",
    "    candidates = []\n",
    "    candidates_to_dups = []\n",
    "    simple_x1, simple_y1, simple_x2, simple_y2 = card_simple_rect\n",
    "    simple_w = (simple_x2 - simple_x1) * card_simple_factor\n",
    "    simple_h = (simple_y2 - simple_y1) * card_simple_factor\n",
    "\n",
    "    for cnt in cnts:\n",
    "        cnt_x, cnt_y, cnt_w, cnt_h = cv2.boundingRect(cnt)\n",
    "        area_cnt = cnt_w * cnt_h\n",
    "\n",
    "        # Area ration verification\n",
    "        if area_cnt / get_card_simple_area() > 0.7:\n",
    "            continue\n",
    "\n",
    "        # Position verification\n",
    "        if cnt_x / simple_w > 0.5:\n",
    "            continue\n",
    "\n",
    "        candidates_to_dups.append(cnt)\n",
    "\n",
    "    # Duplicates\n",
    "    for i in range(len(candidates_to_dups)):\n",
    "        is_inside = False\n",
    "        for j in range(len(candidates_to_dups)):\n",
    "            if i != j:\n",
    "                cnt1 = candidates_to_dups[i]\n",
    "                cnt2 = candidates_to_dups[j]\n",
    "                if cnt1_is_inside_cnt2(cnt1, cnt2):\n",
    "                    is_inside = True\n",
    "                    break\n",
    "        if not is_inside:\n",
    "            candidates.append(cnt1)\n",
    "\n",
    "    return candidates"
   ]
  },
  {
   "cell_type": "code",
   "execution_count": 621,
   "metadata": {},
   "outputs": [],
   "source": [
    "def extract_card_name_suit_images_from_contourns(simple_img, cnts):\n",
    "    name_cnt = cnts[1]\n",
    "    suit_cnt = cnts[0]\n",
    "\n",
    "    name_cnt_x, name_cnt_y, name_cnt_w, name_cnt_h = cv2.boundingRect(name_cnt)\n",
    "    suit_cnt_x, suit_cnt_y, suit_cnt_w, suit_cnt_h = cv2.boundingRect(suit_cnt)\n",
    "\n",
    "    name_img = simple_img[name_cnt_y:name_cnt_y+name_cnt_h, name_cnt_x:name_cnt_x+name_cnt_w]\n",
    "    suit_img = simple_img[suit_cnt_y:suit_cnt_y+suit_cnt_h, suit_cnt_x:suit_cnt_x+suit_cnt_w]\n",
    "\n",
    "    return name_img, suit_img"
   ]
  },
  {
   "cell_type": "code",
   "execution_count": 622,
   "metadata": {},
   "outputs": [],
   "source": [
    "def extract_card_name_suit_images(img):\n",
    "    simple_img = extract_card_simple(img)\n",
    "    binary_simple_img = create_binary(simple_img)\n",
    "    simple_img_cnts = find_contourns(binary_simple_img)\n",
    "    simple_img_cnts = filter_contourns(simple_img_cnts)\n",
    "    name_img, suit_img = extract_card_name_suit_images_from_contourns(binary_simple_img, simple_img_cnts)\n",
    "    return name_img, suit_img"
   ]
  },
  {
   "cell_type": "code",
   "execution_count": 623,
   "metadata": {},
   "outputs": [],
   "source": [
    "# Create folder to store images related to names of the cards\n",
    "if not os.path.exists(name_database_foldername):\n",
    "   os.makedirs(name_database_foldername)\n",
    "\n",
    "# Create folder to store images related to suits of the cards\n",
    "if not os.path.exists(suit_database_foldername):\n",
    "   os.makedirs(suit_database_foldername)\n",
    "\n",
    "# Create folder to store simple version of cards\n",
    "if not os.path.exists(simple_database_foldername):\n",
    "   os.makedirs(simple_database_foldername)\n",
    "\n",
    "filenames = os.listdir(original_database_foldername)\n",
    "i = 0\n",
    "for filename in filenames:\n",
    "    name, suit = extract_card_name_suit(filename)\n",
    "    img = cv2.imread(f\"./{original_database_foldername}/{filename}\")\n",
    "\n",
    "    #simple_img = extract_card_name_suit_images(img)\n",
    "    simple_img = extract_card_simple(img)\n",
    "    binary_simple_img = create_binary(simple_img)\n",
    "    simple_img_cnts = find_contourns(binary_simple_img)\n",
    "    simple_img_cnts = filter_contourns(simple_img_cnts)\n",
    "    name_img, suit_img = extract_card_name_suit_images_from_contourns(binary_simple_img, simple_img_cnts)\n",
    "    #name_img, suit_img = extract_card_name_suit_images(img)\n",
    "    if (not os.path.exists(f\"{name_database_foldername}/{name}.{img_type}\")):\n",
    "        cv2.imwrite(f\"{name_database_foldername}/{name}.{img_type}\", name_img)\n",
    "    if (not os.path.exists(f\"{suit_database_foldername}/{suit}.{img_type}\") and i > 1):\n",
    "        cv2.imwrite(f\"{suit_database_foldername}/{suit}.{img_type}\", suit_img)\n",
    "    i += 1\n",
    "\n",
    "cv2.waitKey(0)\n",
    "cv2.destroyAllWindows()"
   ]
  }
 ],
 "metadata": {
  "kernelspec": {
   "display_name": "Python 3.9.13 64-bit",
   "language": "python",
   "name": "python3"
  },
  "language_info": {
   "codemirror_mode": {
    "name": "ipython",
    "version": 3
   },
   "file_extension": ".py",
   "mimetype": "text/x-python",
   "name": "python",
   "nbconvert_exporter": "python",
   "pygments_lexer": "ipython3",
   "version": "3.9.13"
  },
  "orig_nbformat": 4,
  "vscode": {
   "interpreter": {
    "hash": "dfdf30949fe78955335ac21252e520389c0855e0bdf08332079102d3191b2fa0"
   }
  }
 },
 "nbformat": 4,
 "nbformat_minor": 2
}
