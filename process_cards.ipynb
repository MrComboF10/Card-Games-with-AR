{
 "cells": [
  {
   "cell_type": "code",
   "execution_count": 1,
   "metadata": {},
   "outputs": [],
   "source": [
    "import cv2\n",
    "import os"
   ]
  },
  {
   "cell_type": "code",
   "execution_count": null,
   "metadata": {},
   "outputs": [],
   "source": [
    "original_database_foldername = \"database\"\n",
    "resized_database_foldername = \"resized_database\""
   ]
  },
  {
   "cell_type": "code",
   "execution_count": 2,
   "metadata": {},
   "outputs": [],
   "source": [
    "filenames = os.listdir(original_database_foldername)\n",
    "for filename in filenames:\n",
    "    img = cv2.imread(f\"./{original_database_foldername}/{filename}\")\n",
    "    resized = cv2.resize(img, (500, 726))\n",
    "    cv2.imwrite(f\"./{resized_database_foldername}/{filename}\", resized)"
   ]
  }
 ],
 "metadata": {
  "kernelspec": {
   "display_name": "Python 3.7.0 64-bit",
   "language": "python",
   "name": "python3"
  },
  "language_info": {
   "codemirror_mode": {
    "name": "ipython",
    "version": 3
   },
   "file_extension": ".py",
   "mimetype": "text/x-python",
   "name": "python",
   "nbconvert_exporter": "python",
   "pygments_lexer": "ipython3",
   "version": "3.7.8"
  },
  "orig_nbformat": 4,
  "vscode": {
   "interpreter": {
    "hash": "1867d0369bef58dd44dcfb7e49d98b38ff533d0e3475a54b6958ff4149ae4ff3"
   }
  }
 },
 "nbformat": 4,
 "nbformat_minor": 2
}
