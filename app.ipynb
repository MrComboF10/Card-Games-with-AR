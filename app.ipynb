{
  "cells": [
    {
      "cell_type": "code",
      "execution_count": 8,
      "metadata": {},
      "outputs": [],
      "source": [
        "# Import essential libraries\n",
        "import requests\n",
        "import cv2\n",
        "import cv2.aruco as aruco\n",
        "import numpy as np\n",
        "import imutils\n",
        "import import_ipynb\n",
        "import cards_recognition\n",
        "import time\n",
        "\n",
        "# Player images\n",
        "players = [\n",
        "cv2.imread('winners/left.png'),\n",
        "cv2.imread('winners/up.png'),\n",
        "cv2.imread('winners/right.png'),\n",
        "cv2.imread('winners/down.png')\n",
        "]\n",
        "\n",
        "# IP Address displayed in the IP Webcam applicaiton\n",
        "url = \"http://192.168.1.225:8080/shot.jpg\"\n",
        "#url = \"http://10.227.158.141:8080/shot.jpg\""
      ]
    },
    {
      "cell_type": "code",
      "execution_count": 9,
      "metadata": {},
      "outputs": [],
      "source": [
        "# Camera calibration values\n",
        "# Henrique tele\n",
        "cameraMatrix = np.array([[1078.65920, 0.00000000, 672.955927], [0.00000000, 1066.11282, 534.055095],[0.00000000, 0.00000000, 1.00000000]])\n",
        "cameraDistortion = np.array([[0.13570124, -1.20889359,  0.01040627,  0.00942016,  1.56531542]])"
      ]
    },
    {
      "cell_type": "code",
      "execution_count": 10,
      "metadata": {},
      "outputs": [],
      "source": [
        "trophyAxis = np.float32([[0, 0, 0], [0, 1, 0], [1, 1, 0], [1, 0, 0],\n",
        "                         [0, 0, 1.5], [0, 1, 1.5], [1, 1, 1.5], [1, 0, 1.5]])\n",
        "\n",
        "def drawTrophy(img, rvec, tvec):\n",
        "    # projection matrix points\n",
        "    imgpts, _ = cv2.projectPoints(trophyAxis, rvec, tvec, cameraMatrix, cameraDistortion)\n",
        "    imgpts = np.int32(imgpts).reshape(-1, 2)\n",
        "    # draw ground floor in green\n",
        "    img = cv2.drawContours(img, [imgpts[:4]], -1, (0, 255, 0), 3)\n",
        "    # draw pillars in blue color\n",
        "    for i, j in zip(range(4), range(4, 8)):\n",
        "        img = cv2.line(img, tuple(imgpts[i]), tuple(imgpts[j]), (255), 3)\n",
        "    # draw top layer in red color\n",
        "    img = cv2.drawContours(img, [imgpts[4:]], -1, (0, 0, 255), 3)\n",
        "    return img\n"
      ]
    },
    {
      "cell_type": "code",
      "execution_count": 11,
      "metadata": {},
      "outputs": [],
      "source": [
        "# winner picture vectices\n",
        "winnerAxis = np.float32([[0.25, 0, 2.2], [0.25, 1, 2.2],[0.75, 1, 1.5],[0.75, 0, 1.5]]) \n",
        "\n",
        "# display the winner's picture\n",
        "def drawWinner(img,winner,rvec,tvec):\n",
        "    h, w, c = winner.shape\n",
        "\n",
        "    # projection matrix points\n",
        "    pts1, _ = cv2.projectPoints(winnerAxis, rvec, tvec, cameraMatrix, cameraDistortion)\n",
        "    pts2 = np.float32([[0,0],[w,0],[w,h],[0,h]])\n",
        "\n",
        "    # get homography matrix and warp the picture accordingly\n",
        "    matrix, _ = cv2.findHomography(pts2, pts1)\n",
        "    imgOut = cv2.warpPerspective(winner,matrix,(img.shape[1],img.shape[0]))\n",
        "\n",
        "    # Merge picture with original image\n",
        "    cv2.fillConvexPoly(img, pts1.astype(int),(0,0,0))\n",
        "    imgOut = img + imgOut\n",
        "\n",
        "    return imgOut"
      ]
    },
    {
      "cell_type": "code",
      "execution_count": 12,
      "metadata": {},
      "outputs": [],
      "source": [
        "# get the points of the bounding box into a more convenient array\n",
        "def getBoundingBoxPts(bbox):\n",
        "    tl = bbox[0][0][0], bbox[0][0][1]  # top left\n",
        "    tr = bbox[0][1][0], bbox[0][1][1]  # top right\n",
        "    br = bbox[0][2][0], bbox[0][2][1]  # bottom right\n",
        "    bl = bbox[0][3][0], bbox[0][3][1]  # bottom left\n",
        "    return np.array([tl,tr,br,bl])\n"
      ]
    },
    {
      "cell_type": "code",
      "execution_count": 13,
      "metadata": {},
      "outputs": [],
      "source": [
        "# Axis Orientations\n",
        "coordinates = np.array(\n",
        "    [[0, 0, 0], [0, 1, 0], [1, 1, 0], [1, 0, 0]], dtype='float32')\n",
        "\n",
        "# Seach for aruco markers\n",
        "\n",
        "\n",
        "def findArucoMarkers(img, winner):\n",
        "    # Gray image\n",
        "    imgGray = cv2.cvtColor(img, cv2.COLOR_BGR2GRAY)\n",
        "\n",
        "    # needed parameters for aruco\n",
        "    arucoDict = aruco.Dictionary_get(aruco.DICT_4X4_50)\n",
        "    arucoParam = aruco.DetectorParameters_create()\n",
        "\n",
        "    # Detect markers and store bounding boxes and ids\n",
        "    bboxs, ids, _ = aruco.detectMarkers(\n",
        "        imgGray, arucoDict, parameters=arucoParam)\n",
        "\n",
        "    # Check if ids list is set\n",
        "    if ids is not None:\n",
        "        # Draw contours of detected markers\n",
        "        aruco.drawDetectedMarkers(img, bboxs)\n",
        "        for idx, id in enumerate(ids):\n",
        "            # Check for id = 20 specificaly\n",
        "            if id == 20:\n",
        "                # make the points of the bounding box more convenient                \n",
        "                pts = getBoundingBoxPts(bboxs[idx])\n",
        "\n",
        "                # get the rotation and translation vectors\n",
        "                _, rvec, tvec, _ = cv2.solvePnPRansac(coordinates ,pts, cameraMatrix, cameraDistortion)\n",
        "\n",
        "                # draw axis          \n",
        "                cv2.drawFrameAxes(img, cameraMatrix, cameraDistortion, rvec, tvec, 0.5)\n",
        "                \n",
        "                # draw trophy\n",
        "                img = drawTrophy(img,rvec,tvec)\n",
        "               \n",
        "                # draw winner\n",
        "                img = drawWinner(img,players[winner],rvec,tvec)\n",
        "    return img\n",
        "    \n"
      ]
    },
    {
      "cell_type": "code",
      "execution_count": 14,
      "metadata": {
        "id": "1r-vV-SWLQdo"
      },
      "outputs": [],
      "source": [
        "# Main Loop\n",
        "t = time.time()\n",
        "# While loop to continuously fetching data from the Url\n",
        "while True:\n",
        "    ##\n",
        "    img_resp = requests.get(url)\n",
        "    img_arr = np.array(bytearray(img_resp.content), dtype=np.uint8)\n",
        "    img = cv2.imdecode(img_arr, -1)\n",
        "    img = imutils.resize(img, width=1280, height=720)\n",
        "\n",
        "    # time since last frame\n",
        "    deltatime = time.time() - t\n",
        "    t = time.time()\n",
        "\n",
        "    # detect, identify and process winner\n",
        "    img, winner = cards_recognition.get_cards(img, deltatime)\n",
        " \n",
        "    # Show round winner with aruco marker\n",
        "    if winner != -1:\n",
        "        img = findArucoMarkers(img, winner)\n",
        "    \n",
        "    # To test aruco markers without playing (0: left, 1: up, 2: right, 3: down)\n",
        "    # img = findArucoMarkers(img, 0) \n",
        "\n",
        "    # Display Result\n",
        "    cv2.imshow(\"Android_cam\", img)\n",
        "\n",
        "    # Press Esc key to exit\n",
        "    if cv2.waitKey(1) == 27:\n",
        "        break\n",
        "cv2.destroyAllWindows()\n"
      ]
    }
  ],
  "metadata": {
    "colab": {
      "provenance": []
    },
    "kernelspec": {
      "display_name": "Python 3.10.1 64-bit",
      "language": "python",
      "name": "python3"
    },
    "language_info": {
      "codemirror_mode": {
        "name": "ipython",
        "version": 3
      },
      "file_extension": ".py",
      "mimetype": "text/x-python",
      "name": "python",
      "nbconvert_exporter": "python",
      "pygments_lexer": "ipython3",
      "version": "3.10.1"
    },
    "vscode": {
      "interpreter": {
        "hash": "c8c01f9d0b1b259feb4a4cebc59257d3566aff16e1d7eff29e26a5390e3f6b56"
      }
    }
  },
  "nbformat": 4,
  "nbformat_minor": 0
}
