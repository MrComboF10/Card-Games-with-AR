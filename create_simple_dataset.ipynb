{
 "cells": [
  {
   "cell_type": "markdown",
   "metadata": {},
   "source": [
    "# Create Simple Dataset"
   ]
  },
  {
   "cell_type": "code",
   "execution_count": 276,
   "metadata": {},
   "outputs": [],
   "source": [
    "import cv2\n",
    "import os"
   ]
  },
  {
   "cell_type": "code",
   "execution_count": 277,
   "metadata": {},
   "outputs": [],
   "source": [
    "card_simple_rect = (30, 38, 120, 205)\n",
    "original_database_foldername = \"resized\"\n",
    "name_database_foldername = \"names\"\n",
    "suit_database_foldername = \"suits\"\n",
    "img_type = \"png\""
   ]
  },
  {
   "cell_type": "code",
   "execution_count": 278,
   "metadata": {},
   "outputs": [],
   "source": [
    "def extract_card_name_suit_images(card_img):\n",
    "    x1, y1, x2, y2 = card_simple_rect\n",
    "    h = y2 - y1\n",
    "    card_img_simple = card_img[y1:y2, x1:x2]\n",
    "    name_img = card_img_simple[:h//2,:]\n",
    "    suit_img = card_img_simple[h//2+1:,:]\n",
    "    return name_img, suit_img"
   ]
  },
  {
   "cell_type": "code",
   "execution_count": 279,
   "metadata": {},
   "outputs": [],
   "source": [
    "def extract_card_name_suit(filename):\n",
    "    #suit_legend = {\"C\": \"Clubs\", \"D\": \"Diamonds\", \"H\": \"Hearts\", \"S\": \"Spades\"}\n",
    "    name = filename.split(\".\")[0]\n",
    "    name_split = name.split(\"_\")\n",
    "    return name_split[0], name_split[1]"
   ]
  },
  {
   "cell_type": "code",
   "execution_count": 280,
   "metadata": {},
   "outputs": [],
   "source": [
    "def create_binary(frame):\n",
    "    # convert to gray\n",
    "    frame = cv2.cvtColor(frame, cv2.COLOR_BGR2GRAY)\n",
    "\n",
    "    # apply blur\n",
    "    frame = cv2.GaussianBlur(frame, (3,3), 0)\n",
    "\n",
    "    # convert to binary\n",
    "    frame = cv2.threshold(frame, 210, 255, cv2.THRESH_BINARY)[1]\n",
    "\n",
    "    return frame"
   ]
  },
  {
   "cell_type": "code",
   "execution_count": 281,
   "metadata": {},
   "outputs": [],
   "source": [
    "def apply_morphological_dilatation(binary):\n",
    "    rect_kernel = cv2.getStructuringElement(cv2.MORPH_RECT, (19, 3))\n",
    "    dilation = cv2.erode(binary, rect_kernel, iterations = 1)\n",
    "    return dilation"
   ]
  },
  {
   "cell_type": "code",
   "execution_count": 282,
   "metadata": {},
   "outputs": [],
   "source": [
    "def find_contourns(binary):\n",
    "    cnts = cv2.findContours(binary, cv2.RETR_TREE, cv2.CHAIN_APPROX_SIMPLE)\n",
    "    cnts = cnts[0] if len(cnts) == 2 else cnts[1]\n",
    "\n",
    "    return cnts"
   ]
  },
  {
   "cell_type": "code",
   "execution_count": 283,
   "metadata": {},
   "outputs": [
    {
     "name": "stdout",
     "output_type": "stream",
     "text": [
      "4\n",
      "4\n",
      "2\n",
      "3\n",
      "2\n",
      "2\n",
      "2\n",
      "2\n",
      "2\n",
      "2\n",
      "2\n",
      "2\n",
      "3\n",
      "3\n",
      "3\n",
      "3\n",
      "2\n",
      "2\n",
      "2\n",
      "2\n",
      "3\n",
      "3\n",
      "3\n",
      "3\n",
      "2\n",
      "2\n",
      "2\n",
      "2\n",
      "4\n",
      "4\n",
      "4\n",
      "4\n",
      "3\n",
      "3\n",
      "3\n",
      "3\n",
      "3\n",
      "3\n",
      "3\n",
      "3\n",
      "3\n",
      "3\n",
      "2\n",
      "3\n",
      "3\n",
      "3\n",
      "3\n",
      "3\n",
      "3\n",
      "4\n",
      "4\n",
      "4\n"
     ]
    }
   ],
   "source": [
    "# Create folder to store images related to names of the cards\n",
    "if not os.path.exists(name_database_foldername):\n",
    "   os.makedirs(name_database_foldername)\n",
    "\n",
    "# Create folder to store images related to suits of the cards\n",
    "if not os.path.exists(suit_database_foldername):\n",
    "   os.makedirs(suit_database_foldername)\n",
    "\n",
    "filenames = os.listdir(original_database_foldername)\n",
    "for filename in filenames:\n",
    "    name, suit = extract_card_name_suit(filename)\n",
    "    img = cv2.imread(f\"./{original_database_foldername}/{filename}\")\n",
    "    name_img, suit_img = extract_card_name_suit_images(img)\n",
    "    binary_name_img = create_binary(name_img)\n",
    "    binary_suit_img = create_binary(suit_img)\n",
    "    #binary_name_img = apply_morphological_dilatation(binary_name_img)\n",
    "    name_img_cnts = find_contourns(binary_name_img)\n",
    "    #x,y,w,h = cv2.boundingRect(name_img_cnts[0])\n",
    "    #cv2.rectangle(name_img,(x,y),(x+w,y+h),(0,255,0),2)\n",
    "    suit_img_cnts = find_contourns(binary_suit_img)\n",
    "    print(len(name_img_cnts))\n",
    "    cv2.drawContours(name_img,name_img_cnts,-1,(255,0,0),3)\n",
    "    cv2.imshow(f\"{filename} name\", name_img)\n",
    "    cv2.drawContours(suit_img,suit_img_cnts,-1,(255,0,0),3)\n",
    "    if (not os.path.exists(f\"{name_database_foldername}/{name}.{img_type}\")):\n",
    "        cv2.imwrite(f\"{name_database_foldername}/{name}.{img_type}\", name_img)\n",
    "    if (not os.path.exists(f\"{suit_database_foldername}/{suit}.{img_type}\")):\n",
    "        cv2.imwrite(f\"{suit_database_foldername}/{suit}.{img_type}\", suit_img)\n",
    "        cv2.imshow(f\"{filename} suit\", suit_img)\n",
    "\n",
    "cv2.waitKey(0)\n",
    "cv2.destroyAllWindows()"
   ]
  }
 ],
 "metadata": {
  "kernelspec": {
   "display_name": "Python 3.9.13 64-bit",
   "language": "python",
   "name": "python3"
  },
  "language_info": {
   "codemirror_mode": {
    "name": "ipython",
    "version": 3
   },
   "file_extension": ".py",
   "mimetype": "text/x-python",
   "name": "python",
   "nbconvert_exporter": "python",
   "pygments_lexer": "ipython3",
   "version": "3.9.13"
  },
  "orig_nbformat": 4,
  "vscode": {
   "interpreter": {
    "hash": "dfdf30949fe78955335ac21252e520389c0855e0bdf08332079102d3191b2fa0"
   }
  }
 },
 "nbformat": 4,
 "nbformat_minor": 2
}
