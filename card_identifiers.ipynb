{
 "cells": [
  {
   "cell_type": "code",
   "execution_count": 39,
   "metadata": {},
   "outputs": [],
   "source": [
    "class Identifier:\n",
    "  def __init__(self, filename, top_left_corner, bottom_right_corner):\n",
    "    self.filename = filename\n",
    "    self.top_left_corner = top_left_corner\n",
    "    self.bottom_right_corner = bottom_right_corner"
   ]
  },
  {
   "cell_type": "code",
   "execution_count": 40,
   "metadata": {},
   "outputs": [],
   "source": [
    "def get_identifiers():\n",
    "    identifiers = [\n",
    "        Identifier('A_C', [44, 55], [117, 200]),\n",
    "        Identifier('A_D', [49, 52], [110, 201]),\n",
    "        Identifier('A_H', [45, 57], [114, 202]),\n",
    "        Identifier('A_S', [48, 57], [110, 201]),\n",
    "        \n",
    "        Identifier('2_C', [44, 55], [117, 200]),\n",
    "        Identifier('2_D', [49, 52], [110, 201]),\n",
    "        Identifier('2_H', [45, 57], [114, 202]),\n",
    "        Identifier('2_S', [48, 57], [110, 201]),\n",
    "        \n",
    "        Identifier('3_C', [44, 55], [117, 200]),\n",
    "        Identifier('3_D', [49, 52], [110, 201]),\n",
    "        Identifier('3_H', [45, 57], [114, 202]),\n",
    "        Identifier('3_S', [48, 57], [110, 201]),\n",
    "        \n",
    "        Identifier('4_C', [44, 56], [117, 200]),\n",
    "        Identifier('4_D', [49, 53], [110, 201]),\n",
    "        Identifier('4_H', [45, 57], [114, 202]),\n",
    "        Identifier('4_S', [48, 57], [111, 201]),\n",
    "        \n",
    "        Identifier('5_C', [44, 56], [117, 200]),\n",
    "        Identifier('5_D', [49, 53], [110, 201]),\n",
    "        Identifier('5_H', [45, 57], [114, 202]),\n",
    "        Identifier('5_S', [48, 57], [111, 201]),\n",
    "        \n",
    "        Identifier('6_C', [44, 55], [117, 200]),\n",
    "        Identifier('6_D', [49, 52], [110, 201]),\n",
    "        Identifier('6_H', [45, 57], [114, 202]),\n",
    "        Identifier('6_S', [48, 57], [110, 201]),\n",
    "        \n",
    "        Identifier('7_C', [44, 56], [117, 200]),\n",
    "        Identifier('7_D', [49, 53], [110, 201]),\n",
    "        Identifier('7_H', [45, 57], [114, 202]),\n",
    "        Identifier('7_S', [48, 57], [111, 202]),\n",
    "        \n",
    "        Identifier('8_C', [44, 56], [117, 200]),\n",
    "        Identifier('8_D', [49, 53], [110, 201]),\n",
    "        Identifier('8_H', [45, 57], [114, 202]),\n",
    "        Identifier('8_S', [48, 57], [111, 202]),\n",
    "\n",
    "        Identifier('9_C', [44, 56], [117, 200]),\n",
    "        Identifier('9_D', [49, 53], [110, 201]),\n",
    "        Identifier('9_H', [45, 57], [114, 202]),\n",
    "        Identifier('9_S', [48, 57], [111, 202]),\n",
    "        \n",
    "        Identifier('10_C', [41, 53], [117, 200]),\n",
    "        Identifier('10_D', [45, 52], [112, 201]),\n",
    "        Identifier('10_H', [41, 59], [115, 202]),\n",
    "        Identifier('10_S', [44, 56], [114, 201]),\n",
    "        \n",
    "        Identifier('J_C', [40, 53], [89, 174]),\n",
    "        Identifier('J_D', [41, 56], [88, 188]),\n",
    "        Identifier('J_H', [42, 59], [88, 178]),\n",
    "        Identifier('J_S', [41, 57], [88, 183]),\n",
    "        \n",
    "        Identifier('Q_C', [40, 54], [91, 168]),\n",
    "        Identifier('Q_D', [39, 53], [91, 181]),\n",
    "        Identifier('Q_H', [39, 54], [91, 167]),\n",
    "        Identifier('Q_S', [40, 52], [91, 173]),\n",
    "        \n",
    "        Identifier('K_C', [40, 56], [90, 173]),\n",
    "        Identifier('K_D', [41, 59], [89, 181]),\n",
    "        Identifier('K_H', [42, 57], [88, 178]),\n",
    "        Identifier('K_S', [41, 53], [89, 178]),\n",
    "    ]\n",
    "    return identifiers\n"
   ]
  },
  {
   "cell_type": "code",
   "execution_count": 41,
   "metadata": {},
   "outputs": [],
   "source": [
    "import numpy as np\n",
    "import cv2\n",
    "\n",
    "#extracting card identifiers\n",
    "identifiers = get_identifiers()\n",
    "for identifier in identifiers:\n",
    "    img_gray = cv2.imread('resized/' + identifier.filename + '.png', cv2.IMREAD_GRAYSCALE)\n",
    "    img_binary = cv2.threshold(img_gray, 245, 255, cv2.THRESH_BINARY)[1]\n",
    "    cropped_img = img_binary[identifier.top_left_corner[1]:identifier.bottom_right_corner[1], identifier.top_left_corner[0]:identifier.bottom_right_corner[0]]\n",
    "    #cv2.imshow('first_contour', cropped_img)\n",
    "    #cv2.waitKey(0)\n",
    "    cv2.imwrite('identifiers/' + identifier.filename + '.png', cropped_img)\n",
    "\n",
    "\n"
   ]
  }
 ],
 "metadata": {
  "kernelspec": {
   "display_name": "Python 3.10.1 64-bit",
   "language": "python",
   "name": "python3"
  },
  "language_info": {
   "codemirror_mode": {
    "name": "ipython",
    "version": 3
   },
   "file_extension": ".py",
   "mimetype": "text/x-python",
   "name": "python",
   "nbconvert_exporter": "python",
   "pygments_lexer": "ipython3",
   "version": "3.10.1"
  },
  "orig_nbformat": 4,
  "vscode": {
   "interpreter": {
    "hash": "c8c01f9d0b1b259feb4a4cebc59257d3566aff16e1d7eff29e26a5390e3f6b56"
   }
  }
 },
 "nbformat": 4,
 "nbformat_minor": 2
}
